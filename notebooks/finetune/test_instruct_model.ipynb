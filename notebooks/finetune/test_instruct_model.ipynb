{
 "cells": [
  {
   "cell_type": "code",
   "execution_count": 1,
   "metadata": {},
   "outputs": [],
   "source": [
    "import torch\n",
    "from transformers import pipeline"
   ]
  },
  {
   "cell_type": "code",
   "execution_count": 2,
   "metadata": {},
   "outputs": [],
   "source": [
    "test=\"\"\"\n",
    "La biodiversité est un élément vital de notre planète. Elle englobe la variété de la vie sur Terre, des micro-organismes aux plantes, aux animaux et aux écosystèmes complexes. La biodiversité joue un rôle essentiel dans la stabilité et la résilience de nos écosystèmes, ainsi que dans notre propre survie en fournissant des services écosystémiques tels que la pollinisation des cultures, la purification de l'eau et la régulation du climat.\n",
    "\n",
    "Cependant, la biodiversité est actuellement confrontée à de graves menaces. La perte d'habitats due à la déforestation, à l'urbanisation et à l'agriculture intensive réduit les zones où les espèces peuvent survivre. La surpêche et la pollution des océans mettent en danger les écosystèmes marins. Le changement climatique perturbe les habitats naturels et pousse de nombreuses espèces vers l'extinction.\n",
    "\n",
    "La conservation de la biodiversité est donc une préoccupation mondiale importante. Il est essentiel de protéger les espèces en danger, de restaurer les écosystèmes endommagés et de promouvoir une gestion durable des ressources naturelles. Les efforts de conservation peuvent contribuer à maintenir la diversité biologique de notre planète pour les générations futures et à préserver l'équilibre délicat de la vie sur Terre.\n",
    "\"\"\""
   ]
  },
  {
   "cell_type": "code",
   "execution_count": 3,
   "metadata": {},
   "outputs": [],
   "source": [
    "assistant_message = \"\"\"\n",
    "Tu est un expert en NLP, tu as pour tâche d'extraire les triples (sujet, prédicat, objet) présenté dans des phrases données. \n",
    "Voici un exemple :\n",
    "Phrase : Le chat noir dort paisiblement sur le canapé.\n",
    "Subjet: Le chat noir\n",
    "Prédicat: dort\n",
    "Objet: sur le canapé\n",
    "Voici un autre exemple :\n",
    "Phrase :  Les chercheurs ont découvert une nouvelle espèce de papillon, qui vit exclusivement dans les forêts tropicales humides.\n",
    "Subjet: Les chercheurs\n",
    "Prédicat: ont découvert\n",
    "Objet: une nouvelle espèce de papillon\n",
    "\"\"\""
   ]
  },
  {
   "cell_type": "markdown",
   "metadata": {},
   "source": [
    "# Zephr"
   ]
  },
  {
   "cell_type": "code",
   "execution_count": 1,
   "metadata": {},
   "outputs": [
    {
     "data": {
      "application/vnd.jupyter.widget-view+json": {
       "model_id": "fb271f41f83546faa246ea5c0ad4ba22",
       "version_major": 2,
       "version_minor": 0
      },
      "text/plain": [
       "Loading checkpoint shards:   0%|          | 0/8 [00:00<?, ?it/s]"
      ]
     },
     "metadata": {},
     "output_type": "display_data"
    },
    {
     "name": "stderr",
     "output_type": "stream",
     "text": [
      "Special tokens have been added in the vocabulary, make sure the associated word embeddings are fine-tuned or trained.\n"
     ]
    }
   ],
   "source": [
    "import torch\n",
    "from transformers import pipeline, BitsAndBytesConfig,AutoModelForCausalLM, AutoTokenizer\n",
    "\n",
    "# bnb_config = BitsAndBytesConfig(\n",
    "#     load_in_4bit=True,\n",
    "#     bnb_4bit_use_double_quant=True,\n",
    "#     bnb_4bit_quant_type=\"nf4\",\n",
    "#     bnb_4bit_compute_dtype=torch.bfloat16\n",
    "# )\n",
    "\n",
    "model_name = \"HuggingFaceH4/zephyr-7b-alpha\"\n",
    "model = AutoModelForCausalLM.from_pretrained(\n",
    "    model_name, device_map=\"auto\", torch_dtype=torch.bfloat16, trust_remote_code=True\n",
    ")\n",
    "tokenizer = AutoTokenizer.from_pretrained(model_name)\n",
    "\n",
    "generation_config = model.generation_config\n",
    "generation_config.num_return_sequences = 1\n",
    "generation_config.max_new_tokens = 256\n",
    "generation_config.use_cache = True\n",
    "generation_config.repetition_penalty = 1.7\n",
    "generation_config.pad_token_id = tokenizer.eos_token_id\n",
    "generation_config.eos_token_id = tokenizer.eos_token_id\n",
    "generation_config\n",
    "\n",
    "pipe = pipeline(\n",
    "    \"text-generation\",\n",
    "    model=model,\n",
    "    tokenizer=tokenizer,\n",
    "    generation_config=generation_config,\n",
    "    device_map=\"auto\",\n",
    "    return_full_text=False,\n",
    "    do_sample=True,\n",
    "    top_k=10,\n",
    "    num_return_sequences=1,\n",
    "    eos_token_id=tokenizer.eos_token_id,\n",
    "    pad_token_id=tokenizer.eos_token_id\n",
    ")"
   ]
  },
  {
   "cell_type": "markdown",
   "metadata": {},
   "source": [
    "extraction triplets"
   ]
  },
  {
   "cell_type": "code",
   "execution_count": 2,
   "metadata": {},
   "outputs": [
    {
     "data": {
      "application/vnd.jupyter.widget-view+json": {
       "model_id": "ae60ccb465704549be7054a27c358dbf",
       "version_major": 2,
       "version_minor": 0
      },
      "text/plain": [
       "Downloading shards:   0%|          | 0/8 [00:00<?, ?it/s]"
      ]
     },
     "metadata": {},
     "output_type": "display_data"
    },
    {
     "data": {
      "application/vnd.jupyter.widget-view+json": {
       "model_id": "c4375e0c5b854895b05c046f79b89a5f",
       "version_major": 2,
       "version_minor": 0
      },
      "text/plain": [
       "Loading checkpoint shards:   0%|          | 0/8 [00:00<?, ?it/s]"
      ]
     },
     "metadata": {},
     "output_type": "display_data"
    },
    {
     "name": "stderr",
     "output_type": "stream",
     "text": [
      "Special tokens have been added in the vocabulary, make sure the associated word embeddings are fine-tuned or trained.\n"
     ]
    }
   ],
   "source": [
    "import torch\n",
    "from transformers import pipeline, BitsAndBytesConfig\n",
    "\n",
    "quantization_config = BitsAndBytesConfig(\n",
    "    load_in_4bit=True,\n",
    "    bnb_4bit_use_double_quant=True,\n",
    "    bnb_4bit_quant_type=\"nf4\",\n",
    "    bnb_4bit_compute_dtype=torch.bfloat16,\n",
    ")\n",
    "\n",
    "pipe = pipeline(\"text-generation\", model=\"HuggingFaceH4/zephyr-7b-alpha\", quantization_config=quantization_config, device_map=\"auto\")"
   ]
  },
  {
   "cell_type": "code",
   "execution_count": 3,
   "metadata": {},
   "outputs": [
    {
     "data": {
      "application/vnd.jupyter.widget-view+json": {
       "model_id": "aae399bbe6a74988b82588ec0224ee17",
       "version_major": 2,
       "version_minor": 0
      },
      "text/plain": [
       "Loading checkpoint shards:   0%|          | 0/8 [00:00<?, ?it/s]"
      ]
     },
     "metadata": {},
     "output_type": "display_data"
    },
    {
     "name": "stderr",
     "output_type": "stream",
     "text": [
      "Special tokens have been added in the vocabulary, make sure the associated word embeddings are fine-tuned or trained.\n",
      "Using sep_token, but it is not set yet.\n",
      "Using cls_token, but it is not set yet.\n",
      "Using mask_token, but it is not set yet.\n",
      "/home/ubuntu/miniconda3/envs/finetune_venv/lib/python3.11/site-packages/transformers/generation/utils.py:1462: UserWarning: You have modified the pretrained model configuration to control generation. This is a deprecated strategy to control generation and will be removed soon, in a future version. Please use and modify the model generation configuration (see https://huggingface.co/docs/transformers/generation_strategies#default-text-generation-configuration )\n",
      "  warnings.warn(\n"
     ]
    },
    {
     "name": "stdout",
     "output_type": "stream",
     "text": [
      "<|system|>\n",
      "\n",
      "Tu est un expert en NLP, tu as pour tâche d'extraire les triples (sujet, prédicat, objet) présenté dans des phrases données. \n",
      "Voici un exemple :\n",
      "Phrase : Le chat noir dort paisiblement sur le canapé.\n",
      "Subjet: Le chat noir\n",
      "Prédicat: dort\n",
      "Objet: sur le canapé\n",
      "Voici un autre exemple :\n",
      "Phrase :  Les chercheurs ont découvert une nouvelle espèce de papillon, qui vit exclusivement dans les forêts tropicales humides.\n",
      "Subjet: Les chercheurs\n",
      "Prédicat: ont découvert\n",
      "Objet: une nouvelle espèce de papillon\n",
      "</s>\n",
      "<|user|>\n",
      "Donne moi tous les triples (sujet, prédicat, objet) présenté dans ce paragraphe : \n",
      "La biodiversité est un élément vital de notre planète. Elle englobe la variété de la vie sur Terre, des micro-organismes aux plantes, aux animaux et aux écosystèmes complexes. La biodiversité joue un rôle essentiel dans la stabilité et la résilience de nos écosystèmes, ainsi que dans notre propre survie en fournissant des services écosystémiques tels que la pollinisation des cultures, la purification de l'eau et la régulation du climat.\n",
      "\n",
      "Cependant, la biodiversité est actuellement confrontée à de graves menaces. La perte d'habitats due à la déforestation, à l'urbanisation et à l'agriculture intensive réduit les zones où les espèces peuvent survivre. La surpêche et la pollution des océans mettent en danger les écosystèmes marins. Le changement climatique perturbe les habitats naturels et pousse de nombreuses espèces vers l'extinction.\n",
      "\n",
      "La conservation de la biodiversité est donc une préoccupation mondiale importante. Il est essentiel de protéger les espèces en danger, de restaurer les écosystèmes endommagés et de promouvoir une gestion durable des ressources naturelles. Les efforts de conservation peuvent contribuer à maintenir la diversité biologique de notre planète pour les générations futures et à préserver l'équilibre délicat de la vie sur Terre.\n",
      " ?</s>\n",
      "<|assistant|>\n",
      "1. Biodiversité est un élément vital de notre planète. (sujet: Biodiversité, prédicat: est un élément vital de notre planète, objet: pas d'objet)\n",
      "2. La biodiversité englobe la variété de la vie sur Terre, des micro-organismes aux plantes, aux animaux et aux écosystèmes complexes. (sujet: La biodiversité, prédicat: englobe, objet: la variété de la vie sur Terre, des micro-organismes aux plantes, aux animaux et aux écosystèmes complexes)\n",
      "3. La biodiversité joue un rôle essentiel dans la stabilité et la résilience de nos écosystèmes, ainsi que dans notre propre survie en fournissant des services écosystémiques tels que la pollinisation des cultures, la purification de l'eau et la régulation du climat. (sujet: La biodiversité, prédicat: joue un rôle essentiel dans la stabilité et la résilience de nos écosyst\n"
     ]
    }
   ],
   "source": [
    "# We use the tokenizer's chat template to format each message - see https://huggingface.co/docs/transformers/main/en/chat_templating\n",
    "messages = [\n",
    "    {\n",
    "        \"role\": \"system\",\n",
    "        \"content\": assistant_message,\n",
    "    },\n",
    "    {\"role\": \"user\", \"content\": f\"Donne moi tous les triples (sujet, prédicat, objet) présenté dans ce paragraphe : {test} ?\"},\n",
    "]\n",
    "prompt = pipe.tokenizer.apply_chat_template(messages, tokenize=False, add_generation_prompt=True)\n",
    "outputs = pipe(prompt, max_new_tokens=256, do_sample=True, temperature=0.7, top_k=50, top_p=0.95)\n",
    "print(outputs[0][\"generated_text\"])"
   ]
  },
  {
   "cell_type": "markdown",
   "metadata": {},
   "source": [
    "Simple question about fine tuning"
   ]
  },
  {
   "cell_type": "code",
   "execution_count": 4,
   "metadata": {},
   "outputs": [
    {
     "name": "stderr",
     "output_type": "stream",
     "text": [
      "Using sep_token, but it is not set yet.\n",
      "Using cls_token, but it is not set yet.\n",
      "Using mask_token, but it is not set yet.\n"
     ]
    },
    {
     "name": "stdout",
     "output_type": "stream",
     "text": [
      "<|user|>\n",
      "Dis moi tout ce que tu sais sur tremblement de terre.</s>\n",
      "<|assistant|>\n",
      "Je suis désolé, mais je ne suis pas capable de vous dire ce que je sais sur le tremblement de terre en français, car je suis un robot de langage. Cependant, j'ai des informations et des connaissances sur les tremblements de terre que je pourrais vous partager.\n",
      "\n",
      "Un tremblement de terre est un événement naturel causé par la libération soudaine d'énergie dans la croûte terrestre. Les tremblements de terre peuvent être dangereux et causent souvent de lourds dégâts matériels et humains. Les tremblements de terre sont classés en fonction de leur magnitude, qui mesure leur intensité. La magnitude la plus courante est la magnitude de moment, qui est mesurée sur l'échelle de Richter.\n",
      "\n",
      "Les tremblements de terre sont causés par des mouvements de plaques tectoniques, qui sont des blocs de roche qui composent la croûte terrestre. Les plaques tectoniques se déplacent lent\n"
     ]
    }
   ],
   "source": [
    "# We use the tokenizer's chat template to format each message - see https://huggingface.co/docs/transformers/main/en/chat_templating\n",
    "messages = [\n",
    "    {\"role\": \"user\", \"content\": \"Dis moi tout ce que tu sais sur tremblement de terre.\"},\n",
    "]\n",
    "prompt = pipe.tokenizer.apply_chat_template(messages, tokenize=False, add_generation_prompt=True)\n",
    "outputs = pipe(prompt, max_new_tokens=256, do_sample=True, temperature=0.7, top_k=50, top_p=0.95)\n",
    "print(outputs[0][\"generated_text\"])"
   ]
  },
  {
   "cell_type": "markdown",
   "metadata": {},
   "source": [
    "# Mistral 7b instruct"
   ]
  },
  {
   "cell_type": "code",
   "execution_count": 4,
   "metadata": {},
   "outputs": [
    {
     "data": {
      "application/vnd.jupyter.widget-view+json": {
       "model_id": "13f87ccd12644f9095440abffb10ffab",
       "version_major": 2,
       "version_minor": 0
      },
      "text/plain": [
       "Loading checkpoint shards:   0%|          | 0/2 [00:00<?, ?it/s]"
      ]
     },
     "metadata": {},
     "output_type": "display_data"
    },
    {
     "name": "stderr",
     "output_type": "stream",
     "text": [
      "Special tokens have been added in the vocabulary, make sure the associated word embeddings are fine-tuned or trained.\n"
     ]
    }
   ],
   "source": [
    "import torch\n",
    "from transformers import pipeline, BitsAndBytesConfig,AutoModelForCausalLM, AutoTokenizer\n",
    "\n",
    "# bnb_config = BitsAndBytesConfig(\n",
    "#     load_in_4bit=True,\n",
    "#     bnb_4bit_use_double_quant=True,\n",
    "#     bnb_4bit_quant_type=\"nf4\",\n",
    "#     bnb_4bit_compute_dtype=torch.bfloat16\n",
    "# )\n",
    "\n",
    "model_name = \"mistralai/Mistral-7B-Instruct-v0.1\"\n",
    "model = AutoModelForCausalLM.from_pretrained(\n",
    "    model_name, device_map=\"auto\", torch_dtype=torch.bfloat16, trust_remote_code=True\n",
    ")\n",
    "tokenizer = AutoTokenizer.from_pretrained(model_name)\n",
    "\n",
    "generation_config = model.generation_config\n",
    "generation_config.num_return_sequences = 1\n",
    "generation_config.max_new_tokens = 256\n",
    "generation_config.use_cache = True\n",
    "generation_config.repetition_penalty = 1.7\n",
    "generation_config.pad_token_id = tokenizer.eos_token_id\n",
    "generation_config.eos_token_id = tokenizer.eos_token_id\n",
    "generation_config\n",
    "\n",
    "pipe = pipeline(\n",
    "    \"text-generation\",\n",
    "    model=model,\n",
    "    tokenizer=tokenizer,\n",
    "    generation_config=generation_config,\n",
    "    device_map=\"auto\",\n",
    "    return_full_text=False,\n",
    "    do_sample=True,\n",
    "    top_k=10,\n",
    "    num_return_sequences=1,\n",
    "    eos_token_id=tokenizer.eos_token_id,\n",
    "    pad_token_id=tokenizer.eos_token_id\n",
    ")"
   ]
  },
  {
   "cell_type": "code",
   "execution_count": 5,
   "metadata": {},
   "outputs": [],
   "source": [
    "def chat_completion(messages):\n",
    "    prompt = \"\"\n",
    "    for m in messages:\n",
    "        if m[\"role\"]==\"user\":\n",
    "            prompt += \"[INST]\" +  m[\"content\"] + \"[/INST]\"\n",
    "        elif m[\"role\"]==\"assistant\":\n",
    "            prompt += \"<s>\" + m[\"content\"] + \"</s>\"\n",
    "    \n",
    "    return prompt.strip()"
   ]
  },
  {
   "cell_type": "code",
   "execution_count": 6,
   "metadata": {},
   "outputs": [
    {
     "data": {
      "text/plain": [
       "\"<s>\\nTu est un expert en NLP, tu as pour tâche d'extraire les triples (sujet, prédicat, objet) présenté dans des phrases données. \\nVoici un exemple :\\nPhrase : Le chat noir dort paisiblement sur le canapé.\\nSubjet: Le chat noir\\nPrédicat: dort\\nObjet: sur le canapé\\nVoici un autre exemple :\\nPhrase :  Les chercheurs ont découvert une nouvelle espèce de papillon, qui vit exclusivement dans les forêts tropicales humides.\\nSubjet: Les chercheurs\\nPrédicat: ont découvert\\nObjet: une nouvelle espèce de papillon\\n</s>[INST]Donne moi tous les triples (sujet, prédicat, objet) présenté dans ce paragraphe : \\nLa biodiversité est un élément vital de notre planète. Elle englobe la variété de la vie sur Terre, des micro-organismes aux plantes, aux animaux et aux écosystèmes complexes. La biodiversité joue un rôle essentiel dans la stabilité et la résilience de nos écosystèmes, ainsi que dans notre propre survie en fournissant des services écosystémiques tels que la pollinisation des cultures, la purification de l'eau et la régulation du climat.\\n\\nCependant, la biodiversité est actuellement confrontée à de graves menaces. La perte d'habitats due à la déforestation, à l'urbanisation et à l'agriculture intensive réduit les zones où les espèces peuvent survivre. La surpêche et la pollution des océans mettent en danger les écosystèmes marins. Le changement climatique perturbe les habitats naturels et pousse de nombreuses espèces vers l'extinction.\\n\\nLa conservation de la biodiversité est donc une préoccupation mondiale importante. Il est essentiel de protéger les espèces en danger, de restaurer les écosystèmes endommagés et de promouvoir une gestion durable des ressources naturelles. Les efforts de conservation peuvent contribuer à maintenir la diversité biologique de notre planète pour les générations futures et à préserver l'équilibre délicat de la vie sur Terre.\\n ?[/INST]\""
      ]
     },
     "execution_count": 6,
     "metadata": {},
     "output_type": "execute_result"
    }
   ],
   "source": [
    "messages = [\n",
    "    {\"role\": \"assistant\", \"content\": assistant_message},\n",
    "    {\"role\": \"user\", \"content\": f\"Donne moi tous les triples (sujet, prédicat, objet) présenté dans ce paragraphe : {test} ?\"}\n",
    "]\n",
    "completed_prompt = chat_completion(messages)\n",
    "completed_prompt"
   ]
  },
  {
   "cell_type": "code",
   "execution_count": 9,
   "metadata": {},
   "outputs": [
    {
     "name": "stdout",
     "output_type": "stream",
     "text": [
      "{'generated_text': ' Voila toutes les tripletes extraits du texte ci dessus avec leur sujets, predicateurs et objets respectifs :\\n1. Suject - Biodiversity ; Précipitateur – is an element; Objet – of our planet2. SubJECTS - Micro organisms, plants and animals3. SUBJEKTS - Ecosystems4. OBJECTIVE - plays a role essential5. SUBUGETTEES - in the stability6. SUPUBETEESSSES - survival7. SERVICES - ecoystematic8. THREATENINGS - loss9. OF HABITAITS - through deforestaions0. DEFORESTATION AND URBANIZATION IN AGRICULTURE INTENSIFICATION REDUCE THE ZONES WHERE ESPERENCHE CAN LIVING. OTHERS ARE PUT AT RISKS BY FISHHUNGHT AN DPOLLUITIONOFT HE WATEFURTHERMOAR THOUGHS CLIMACT CHANGED NATRUAL Habitatss THAT FORCISED MANY SPEECLES TO EXTINCTIONSUCH AS WHALE SHARK'}\n"
     ]
    }
   ],
   "source": [
    "text = pipe(\n",
    "    completed_prompt,\n",
    "    temperature=0.1\n",
    "    )[0]\n",
    "print(text)"
   ]
  },
  {
   "cell_type": "code",
   "execution_count": 10,
   "metadata": {},
   "outputs": [
    {
     "data": {
      "text/plain": [
       "' Voila toutes les tripletes extraits du texte ci dessus avec leur sujets, predicateurs et objets respectifs :\\n1. Suject - Biodiversity ; Précipitateur – is an element; Objet – of our planet2. SubJECTS - Micro organisms, plants and animals3. SUBJEKTS - Ecosystems4. OBJECTIVE - plays a role essential5. SUBUGETTEES - in the stability6. SUPUBETEESSSES - survival7. SERVICES - ecoystematic8. THREATENINGS - loss9. OF HABITAITS - through deforestaions0. DEFORESTATION AND URBANIZATION IN AGRICULTURE INTENSIFICATION REDUCE THE ZONES WHERE ESPERENCHE CAN LIVING. OTHERS ARE PUT AT RISKS BY FISHHUNGHT AN DPOLLUITIONOFT HE WATEFURTHERMOAR THOUGHS CLIMACT CHANGED NATRUAL Habitatss THAT FORCISED MANY SPEECLES TO EXTINCTIONSUCH AS WHALE SHARK'"
      ]
     },
     "execution_count": 10,
     "metadata": {},
     "output_type": "execute_result"
    }
   ],
   "source": [
    "text[\"generated_text\"]"
   ]
  }
 ],
 "metadata": {
  "kernelspec": {
   "display_name": "finetune_venv",
   "language": "python",
   "name": "finetune_venv"
  },
  "language_info": {
   "codemirror_mode": {
    "name": "ipython",
    "version": 3
   },
   "file_extension": ".py",
   "mimetype": "text/x-python",
   "name": "python",
   "nbconvert_exporter": "python",
   "pygments_lexer": "ipython3",
   "version": "3.11.5"
  }
 },
 "nbformat": 4,
 "nbformat_minor": 2
}
