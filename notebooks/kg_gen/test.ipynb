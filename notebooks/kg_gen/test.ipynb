{
 "cells": [
  {
   "cell_type": "code",
   "execution_count": 1,
   "metadata": {},
   "outputs": [
    {
     "name": "stdout",
     "output_type": "stream",
     "text": [
      "['I love this flavor!', \"It's by far the best choice and my go-to whenever I go to the grocery store.\", 'I wish they would restock it more often though.']\n"
     ]
    }
   ],
   "source": [
    "from nltk.tokenize import sent_tokenize\n",
    "text = 'I love this flavor! It\\'s by far the best choice and my go-to whenever I go to the grocery store. I wish they would restock it more often though.'\n",
    "sentence_tokens = sent_tokenize(text)\n",
    "print(sentence_tokens)"
   ]
  },
  {
   "cell_type": "code",
   "execution_count": 3,
   "metadata": {},
   "outputs": [],
   "source": [
    "import os\n",
    "import pandas as pd\n",
    "from typing import Dict\n",
    "import time\n",
    "from nebula3.gclient.net import Connection\n",
    "from nebula3.gclient.net.SessionPool import SessionPool\n",
    "from nebula3.Config import SessionPoolConfig\n",
    "from nebula3.common.ttypes import ErrorCode\n",
    "from nebula3.data.ResultSet import ResultSet"
   ]
  },
  {
   "cell_type": "code",
   "execution_count": 4,
   "metadata": {},
   "outputs": [],
   "source": [
    "os.environ['NEBULA_USER'] = \"root\"\n",
    "os.environ['NEBULA_PASSWORD'] = \"nebula\"\n",
    "os.environ[\"GRAPHD_HOST\"] = \"127.0.0.1\"\n",
    "os.environ[\"GRAPHD_PORT\"] = \"9669\"\n",
    "os.environ['NEBULA_ADDRESS'] = \"127.0.0.1:9669\"\n",
    "# space_name = \"Digital_Safety\"\n",
    "space_name = \"test\""
   ]
  },
  {
   "cell_type": "code",
   "execution_count": 5,
   "metadata": {},
   "outputs": [],
   "source": [
    "config = SessionPoolConfig()\n",
    "\n",
    "# prepare space\n",
    "conn = Connection()\n",
    "conn.open(os.environ[\"GRAPHD_HOST\"], os.environ[\"GRAPHD_PORT\"], 1000)\n",
    "auth_result = conn.authenticate(os.environ[\"NEBULA_USER\"], os.environ[\"NEBULA_PASSWORD\"])\n",
    "assert auth_result.get_session_id() != 0\n",
    "session_pool = SessionPool(os.environ[\"NEBULA_USER\"], os.environ[\"NEBULA_PASSWORD\"], space_name, [(os.environ[\"GRAPHD_HOST\"], os.environ[\"GRAPHD_PORT\"])])\n",
    "assert session_pool.init(config)"
   ]
  },
  {
   "cell_type": "code",
   "execution_count": 6,
   "metadata": {},
   "outputs": [],
   "source": [
    "resp = session_pool.execute(\n",
    "    'USE test;'\n",
    "    'MATCH ()-[e]->() RETURN e'\n",
    ")"
   ]
  },
  {
   "cell_type": "code",
   "execution_count": 18,
   "metadata": {},
   "outputs": [
    {
     "name": "stdout",
     "output_type": "stream",
     "text": [
      "Value(\n",
      "    sVal=b'ing\\xc3\\xa9nieur')\n",
      "Value(\n",
      "    sVal=b'I1 \\xc2\\xab Digital Safety \\xc2\\xbb')\n",
      "Value(\n",
      "    sVal=b'RCO-5.pdf')\n",
      "Value(\n",
      "    sVal=b'RCO-5.pdf')\n",
      "Value(\n",
      "    sVal=b'RCO-5.pdf')\n",
      "Value(\n",
      "    sVal=b'Intelligence Artificielle')\n",
      "Value(\n",
      "    sVal=(b'Etat de l\\xe2\\x80\\x99art sur la cartographie automatique et dynamique des'\n",
      "      b' relations intras et inters documentaires des documents composant un rapport'\n",
      "      b' de s\\xc3\\xbbret\\xc3\\xa9 pour le Projet I1 \\xc2\\xab Digital Safety \\xc2\\xbb '\n",
      "      b'5'))\n",
      "Value(\n",
      "    sVal=b'Etat de l_art_RCO-5.pdf')\n",
      "Value(\n",
      "    sVal=b'Autorit\\xc3\\xa9 de S\\xc3\\xbbret\\xc3\\xa9 Nucl\\xc3\\xa9aire ASN')\n",
      "Value(\n",
      "    sVal=b'rapport de s\\xc3\\xbbret\\xc3\\xa9 nucl\\xc3\\xa9aire')\n",
      "Value(\n",
      "    sVal=b'rapport de s\\xc3\\xbbret\\xc3\\xa9 nucl\\xc3\\xa9aire')\n",
      "Value(\n",
      "    sVal=b'logiciel')\n",
      "Value(\n",
      "    sVal=(b'3mydnnfyn8s8zjjjbt6rdlpm41920w312xwgvsc1pk3vs30n784Aqd13AqyA1zw9htnf7vvdf289'\n",
      "      b'tvwcm0v2wj0vwmm8t453kAp8y2tA3xm'))\n",
      "Value(\n",
      "    sVal=b'1dh6y1wt95tknsf18z1')\n"
     ]
    }
   ],
   "source": [
    "for row in resp:\n",
    "    relation_value = row.values()[0].get_value()\n",
    "    print(relation_value.get_eVal().src)"
   ]
  },
  {
   "cell_type": "code",
   "execution_count": 11,
   "metadata": {},
   "outputs": [],
   "source": [
    "def result_to_dict(result: ResultSet) -> pd.DataFrame:\n",
    "    \"\"\"\n",
    "    build list for each column, and transform to dataframe\n",
    "    \"\"\"\n",
    "    assert result.is_succeeded()\n",
    "    result_dict = {}\n",
    "    source = []\n",
    "    target = []\n",
    "    relation = []\n",
    "    for row in result:\n",
    "        relation_value = row.values()[0].get_value()\n",
    "        source.append(relation_value.get_eVal().src.get_sVal().decode())\n",
    "        target.append(relation_value.get_eVal().dst.get_sVal().decode())\n",
    "        relation.append(relation_value.get_eVal().props[b'relationship'].get_sVal().decode())\n",
    "\n",
    "    result_dict[\"source\"] = source\n",
    "    result_dict[\"target\"] = target\n",
    "    result_dict[\"relation\"] = relation\n",
    "    return result_dict"
   ]
  },
  {
   "cell_type": "code",
   "execution_count": 12,
   "metadata": {},
   "outputs": [],
   "source": [
    "result_dict = result_to_dict(resp)"
   ]
  },
  {
   "cell_type": "code",
   "execution_count": 20,
   "metadata": {},
   "outputs": [],
   "source": [
    "import networkx as nx\n",
    "from pyvis.network import Network\n",
    "\n",
    "# Create a directed graph\n",
    "graph = nx.DiGraph()\n",
    "\n",
    "# Add nodes and edges to the graph\n",
    "for src, tgt, rel in zip(result_dict['source'], result_dict['target'], result_dict['relation']):\n",
    "    graph.add_edge(src, tgt, relation=rel)\n",
    "\n",
    "net = Network(notebook=True, cdn_resources=\"in_line\", directed=True)\n",
    "net.from_nx(graph)\n",
    "# net.show('./example.html')\n",
    "net.save_graph('./example.html')\n"
   ]
  }
 ],
 "metadata": {
  "kernelspec": {
   "display_name": "llm_venv",
   "language": "python",
   "name": "llm_venv"
  },
  "language_info": {
   "codemirror_mode": {
    "name": "ipython",
    "version": 3
   },
   "file_extension": ".py",
   "mimetype": "text/x-python",
   "name": "python",
   "nbconvert_exporter": "python",
   "pygments_lexer": "ipython3",
   "version": "3.10.11"
  }
 },
 "nbformat": 4,
 "nbformat_minor": 2
}
